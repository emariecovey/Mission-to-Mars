{
 "cells": [
  {
   "cell_type": "code",
   "execution_count": 1,
   "id": "76e2c44e",
   "metadata": {},
   "outputs": [
    {
     "name": "stdout",
     "output_type": "stream",
     "text": [
      "/Users/emarieswenson/opt/anaconda3/envs/pythondata/bin/python\r\n"
     ]
    }
   ],
   "source": [
    "!which python"
   ]
  },
  {
   "cell_type": "code",
   "execution_count": 2,
   "id": "4059c9e3",
   "metadata": {},
   "outputs": [
    {
     "name": "stdout",
     "output_type": "stream",
     "text": [
      "\r\n",
      "     active environment : /Users/emarieswenson/opt/anaconda3/envs/pythondata\r\n",
      "    active env location : /Users/emarieswenson/opt/anaconda3/envs/pythondata\r\n",
      "            shell level : 2\r\n",
      "       user config file : /Users/emarieswenson/.condarc\r\n",
      " populated config files : /Users/emarieswenson/.condarc\r\n",
      "          conda version : 4.12.0\r\n",
      "    conda-build version : not installed\r\n",
      "         python version : 3.7.13.final.0\r\n",
      "       virtual packages : __osx=10.16=0\r\n",
      "                          __unix=0=0\r\n",
      "                          __archspec=1=x86_64\r\n",
      "       base environment : /Users/emarieswenson/opt/anaconda3/envs/PythonData  (writable)\r\n",
      "      conda av data dir : /Users/emarieswenson/opt/anaconda3/envs/PythonData/etc/conda\r\n",
      "  conda av metadata url : None\r\n",
      "           channel URLs : https://repo.anaconda.com/pkgs/main/osx-64\r\n",
      "                          https://repo.anaconda.com/pkgs/main/noarch\r\n",
      "                          https://repo.anaconda.com/pkgs/r/osx-64\r\n",
      "                          https://repo.anaconda.com/pkgs/r/noarch\r\n",
      "          package cache : /Users/emarieswenson/opt/anaconda3/envs/PythonData/pkgs\r\n",
      "                          /Users/emarieswenson/.conda/pkgs\r\n",
      "       envs directories : /Users/emarieswenson/opt/anaconda3/envs/PythonData/envs\r\n",
      "                          /Users/emarieswenson/.conda/envs\r\n",
      "               platform : osx-64\r\n",
      "             user-agent : conda/4.12.0 requests/2.27.1 CPython/3.7.13 Darwin/21.3.0 OSX/10.16\r\n",
      "                UID:GID : 501:20\r\n",
      "             netrc file : None\r\n",
      "           offline mode : False\r\n",
      "\r\n"
     ]
    }
   ],
   "source": [
    "!conda info"
   ]
  },
  {
   "cell_type": "code",
   "execution_count": null,
   "id": "470cd4db",
   "metadata": {},
   "outputs": [],
   "source": []
  }
 ],
 "metadata": {
  "kernelspec": {
   "display_name": "PythonData",
   "language": "python",
   "name": "pythondata"
  },
  "language_info": {
   "codemirror_mode": {
    "name": "ipython",
    "version": 3
   },
   "file_extension": ".py",
   "mimetype": "text/x-python",
   "name": "python",
   "nbconvert_exporter": "python",
   "pygments_lexer": "ipython3",
   "version": "3.7.13"
  }
 },
 "nbformat": 4,
 "nbformat_minor": 5
}
