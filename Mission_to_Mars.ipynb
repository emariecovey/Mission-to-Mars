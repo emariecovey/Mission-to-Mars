{
 "cells": [
  {
   "cell_type": "code",
   "execution_count": 5,
   "id": "299b22e3",
   "metadata": {},
   "outputs": [],
   "source": [
    "#Import splinter and beautiful soup\n",
    "from splinter import Browser\n",
    "from bs4 import BeautifulSoup as soup\n",
    "from webdriver_manager.chrome import ChromeDriverManager\n",
    "import pandas as pd"
   ]
  },
  {
   "cell_type": "code",
   "execution_count": 6,
   "id": "6a79421b",
   "metadata": {},
   "outputs": [
    {
     "name": "stdout",
     "output_type": "stream",
     "text": [
      "\n"
     ]
    },
    {
     "name": "stderr",
     "output_type": "stream",
     "text": [
      "[WDM] - ====== WebDriver manager ======\n",
      "[WDM] - Current google-chrome version is 103.0.5060\n",
      "[WDM] - Get LATEST chromedriver version for 103.0.5060 google-chrome\n",
      "[WDM] - Driver [/Users/emarieswenson/.wdm/drivers/chromedriver/mac64/103.0.5060.53/chromedriver] found in cache\n"
     ]
    }
   ],
   "source": [
    "#set up executable path and url to do scraping\n",
    "#prepping automatic browser\n",
    "executable_path = {'executable_path': ChromeDriverManager().install()}\n",
    "browser = Browser('chrome', **executable_path, headless=False)\n"
   ]
  },
  {
   "cell_type": "markdown",
   "id": "8ef3fd53",
   "metadata": {},
   "source": [
    "## article scraping"
   ]
  },
  {
   "cell_type": "code",
   "execution_count": 7,
   "id": "1055e5f2",
   "metadata": {},
   "outputs": [
    {
     "data": {
      "text/plain": [
       "True"
      ]
     },
     "execution_count": 7,
     "metadata": {},
     "output_type": "execute_result"
    }
   ],
   "source": [
    "# Visit the mars nasa news site\n",
    "url=\"https://redplanetscience.com\"\n",
    "browser.visit(url)\n",
    "\n",
    "# we're searching for elements with a specific combination of tag (div) and attribute (list_text)\n",
    "# Optional delay for loading the page (The optional delay is useful because sometimes dynamic pages take a little while to load, especially if they are image-heavy.)\n",
    "browser.is_element_present_by_css('div.list_text', wait_time=1)"
   ]
  },
  {
   "cell_type": "code",
   "execution_count": 8,
   "id": "7dd73c77",
   "metadata": {},
   "outputs": [
    {
     "name": "stdout",
     "output_type": "stream",
     "text": [
      "NASA Invites Public to Share Excitement of Mars 2020 Perseverance Rover Launch\n"
     ]
    },
    {
     "data": {
      "text/plain": [
       "'There are lots of ways to participate in the historic event, which is targeted for July 30.'"
      ]
     },
     "execution_count": 8,
     "metadata": {},
     "output_type": "execute_result"
    }
   ],
   "source": [
    "#set up html parser\n",
    "html = browser.html\n",
    "news_soup = soup(html, 'html.parser')\n",
    "\n",
    "#get a bunch of the code from website stored here so we can find stuff in it\n",
    "slide_elem = news_soup.select_one('div.list_text')\n",
    "\n",
    "#news title\n",
    "# Use the parent element to find the first `a` tag and save it as `news_title`\n",
    "news_title = slide_elem.find('div', class_='content_title').get_text() #just .text also works\n",
    "print(news_title)\n",
    "\n",
    "#article summary\n",
    "article_summary = slide_elem.find('div', class_='article_teaser_body').text\n",
    "article_summary"
   ]
  },
  {
   "cell_type": "markdown",
   "id": "023d1ad3",
   "metadata": {},
   "source": [
    "## Image Scraping"
   ]
  },
  {
   "cell_type": "code",
   "execution_count": null,
   "id": "87a18932",
   "metadata": {},
   "outputs": [],
   "source": [
    "#visit url\n",
    "url = \"https://spaceimages-mars.com/\"\n",
    "browser.visit(url)\n",
    "\n",
    "#find and click on full image button\n",
    "full_image_elem = browser.find_by_tag('button')[1]\n",
    "full_image_elem.click()\n",
    "\n",
    "#parse the resulting html with soup\n",
    "html=browser.html\n",
    "img_soup = soup(html, \"html.parser\")\n",
    "#.get pulls the link to image\n",
    "img_url_rel = img_soup.find(\"img\", class_=\"fancybox-image\").get(\"src\")\n",
    "img_url_rel\n",
    "#add the rest of the url to the image url\n",
    "img_url = f\"{url}{img_url_rel}\"\n",
    "img_url"
   ]
  },
  {
   "cell_type": "markdown",
   "id": "ebcd85d0",
   "metadata": {},
   "source": [
    "## Collection of mars facts"
   ]
  },
  {
   "cell_type": "code",
   "execution_count": null,
   "id": "28c33eac",
   "metadata": {},
   "outputs": [],
   "source": [
    "#instead of scraping each row of the table, scrape entire table with Pandas' .read_html() function\n",
    "\n",
    "#The Pandas function read_html() specifically searches for and returns a list of tables found in the HTML. \n",
    "#By specifying an index of 0, we're telling Pandas to pull only the first table it encounters, or the first item in the list. \n",
    "df=pd.read_html(\"https://galaxyfacts-mars.com/\")[0]\n",
    "df.columns=[\"description\", \"Mars\", \"Earth\"]\n",
    "df.set_index('description', inplace=True)\n",
    "\n",
    "df\n",
    "\n",
    "#Our data is live—if the table is updated, then we want that change to appear in Robin's app also.\n",
    "#Pandas also has a way to easily convert our DataFrame back into HTML-ready code using the .to_html() function\n",
    "df.to_html()\n"
   ]
  },
  {
   "cell_type": "code",
   "execution_count": null,
   "id": "24dcedb7",
   "metadata": {},
   "outputs": [],
   "source": [
    "#ending automated browsing session\n",
    "#otherwise it will continue to look for instructions and use up computer battery and memory\n",
    "browser.quit()"
   ]
  },
  {
   "cell_type": "code",
   "execution_count": null,
   "id": "a5e2d8d4",
   "metadata": {},
   "outputs": [],
   "source": []
  }
 ],
 "metadata": {
  "kernelspec": {
   "display_name": "Python 3 (ipykernel)",
   "language": "python",
   "name": "python3"
  },
  "language_info": {
   "codemirror_mode": {
    "name": "ipython",
    "version": 3
   },
   "file_extension": ".py",
   "mimetype": "text/x-python",
   "name": "python",
   "nbconvert_exporter": "python",
   "pygments_lexer": "ipython3",
   "version": "3.7.13"
  }
 },
 "nbformat": 4,
 "nbformat_minor": 5
}
